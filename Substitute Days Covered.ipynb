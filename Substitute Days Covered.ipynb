{
 "cells": [
  {
   "cell_type": "markdown",
   "id": "7b3084de",
   "metadata": {},
   "source": [
    "# Substitute Days Covered\n",
    "\n",
    "In this Jupyter notebook, the Data Analyst Teacher Absent Report that has been created in Frontline is used. The substitutes are selected for teachers and sgis that called out and duplicate days in which they might have covered multiple teachers are dropped. A value of one is given to each day in which the substitute covered. They are separated by the two sites (Delano and Lost Hills) then summed up for each substitute. A final column is created with total days that they have covered.\n",
    "\n",
    "A second portion of the code looks to find active (days worked > 0) and inactive (days worked = 0) substitutes. It will be done by combining the dataframe from the first part with the list of substitutes. Then the dataframe will be separated into two dataframes based on the criteria above."
   ]
  },
  {
   "cell_type": "code",
   "execution_count": null,
   "id": "92b45f30",
   "metadata": {},
   "outputs": [],
   "source": [
    "import numpy as np\n",
    "import pandas as pd"
   ]
  },
  {
   "cell_type": "code",
   "execution_count": null,
   "id": "3c0f5c53",
   "metadata": {},
   "outputs": [],
   "source": [
    "# Load Substitute list\n",
    "substitutes_roster = pd.read_csv(r\"C:\\Users\\derek.castleman\\Desktop\\2025_02_25_20265_Castleman Substitute List_664664159_.csv\")\n",
    "\n",
    "# Load Data Analyst Teacher Absent Report\n",
    "substitutes = pd.read_csv(r\"C:\\Users\\derek.castleman\\Desktop\\2025_02_25_20265_Data Analyst Absent Teacher Report_664664824_.csv\")\n",
    "substitutes\n",
    "\n",
    "# Name the output destination and file name\n",
    "output = \"C:\\\\Users\\\\derek.castleman\\\\Desktop\\\\Substitutes.xlsx\""
   ]
  },
  {
   "cell_type": "code",
   "execution_count": null,
   "id": "3c044a2a",
   "metadata": {},
   "outputs": [],
   "source": [
    "# Selects for absent days related to Teachers and SGIs\n",
    "substitutes = substitutes[(substitutes['Employee Type'] == 'Small Group Instructor') | \n",
    "                         (substitutes['Employee Type'] == 'Teacher')]\n",
    "substitutes"
   ]
  },
  {
   "cell_type": "code",
   "execution_count": null,
   "id": "ce054d4b",
   "metadata": {},
   "outputs": [],
   "source": [
    "# Drop duplicates on date since a teacher can work multiple jobs in one day\n",
    "substitutes = substitutes.drop_duplicates(subset=['Date', 'Substitute Full Name'])\n",
    "substitutes"
   ]
  },
  {
   "cell_type": "code",
   "execution_count": null,
   "id": "69fa0203",
   "metadata": {},
   "outputs": [],
   "source": [
    "# GIve a value of 1 for each day worked\n",
    "substitutes['Days'] = 1\n",
    "substitutes"
   ]
  },
  {
   "cell_type": "code",
   "execution_count": null,
   "id": "30572e54",
   "metadata": {},
   "outputs": [],
   "source": [
    "# Selects for Delano sites\n",
    "delano = substitutes[(substitutes['School Name'] == 'WCPA - Delano Elementary') \n",
    "                     | (substitutes['School Name'] == 'WCPA - Delano High School') | \n",
    "                    (substitutes['School Name'] == 'WCPA - Delano Middle School') | \n",
    "                     (substitutes['School Name'] == 'Primary School-Delano')]\n",
    "delano"
   ]
  },
  {
   "cell_type": "code",
   "execution_count": null,
   "id": "0751678c",
   "metadata": {},
   "outputs": [],
   "source": [
    "# Groups by substitute name and sums up the days worked\n",
    "delano = delano.groupby(['Substitute Full Name']).sum(['Days']).reset_index()\n",
    "delano"
   ]
  },
  {
   "cell_type": "code",
   "execution_count": null,
   "id": "eb5ae3b6",
   "metadata": {},
   "outputs": [],
   "source": [
    "# Changes day column to say Delano\n",
    "delano = delano.rename(columns={'Days': 'Delano'})\n",
    "delano"
   ]
  },
  {
   "cell_type": "code",
   "execution_count": null,
   "id": "17c0edb2",
   "metadata": {},
   "outputs": [],
   "source": [
    "# Selects for the Lost Hills schools\n",
    "losthills = substitutes[(substitutes['School Name'] == 'WCPA - Elementary Lost Hills') \n",
    "                     | (substitutes['School Name'] == 'WCPA - Lost Hills Middle School') | \n",
    "                    (substitutes['School Name'] == 'WCPA-Lost Hills High School')]\n",
    "losthills"
   ]
  },
  {
   "cell_type": "code",
   "execution_count": null,
   "id": "9e9cb63c",
   "metadata": {},
   "outputs": [],
   "source": [
    "# Groups by substitute name and the days worked\n",
    "losthills = losthills.groupby(['Substitute Full Name']).sum(['Days']).reset_index()\n",
    "losthills"
   ]
  },
  {
   "cell_type": "code",
   "execution_count": null,
   "id": "218991df",
   "metadata": {},
   "outputs": [],
   "source": [
    "# Changes name of Days to Lost Hills\n",
    "losthills = losthills.rename(columns={'Days': 'Lost Hills'})\n",
    "losthills"
   ]
  },
  {
   "cell_type": "code",
   "execution_count": null,
   "id": "25b4bc63",
   "metadata": {},
   "outputs": [],
   "source": [
    "# Merges Delano dataframe with Lost Hills\n",
    "final = pd.merge(delano, losthills, how='outer', on='Substitute Full Name')\n",
    "final"
   ]
  },
  {
   "cell_type": "code",
   "execution_count": null,
   "id": "ed417012",
   "metadata": {},
   "outputs": [],
   "source": [
    "# Fill NaN values with a 0\n",
    "final = final.fillna(0)\n",
    "final"
   ]
  },
  {
   "cell_type": "code",
   "execution_count": null,
   "id": "dfe0f6ca",
   "metadata": {},
   "outputs": [],
   "source": [
    "# Totals columns to get total days worked\n",
    "final['Total'] = final['Delano'] + final['Lost Hills']\n",
    "final"
   ]
  },
  {
   "cell_type": "code",
   "execution_count": null,
   "id": "341a4752",
   "metadata": {},
   "outputs": [],
   "source": [
    "# Puts teachers in alphabetical order\n",
    "final = final.sort_values(by='Substitute Full Name')\n",
    "final"
   ]
  },
  {
   "cell_type": "code",
   "execution_count": null,
   "id": "a82e771b",
   "metadata": {},
   "outputs": [],
   "source": [
    "import base64\n",
    "from IPython.display import HTML\n",
    "\n",
    "def create_download_link( df, title = \"Substitutes Days Covered\", filename = \"Substitutes Days Covered\"):\n",
    "    csv = df.to_csv(index=False)\n",
    "    b64 = base64.b64encode(csv.encode())\n",
    "    payload = b64.decode()\n",
    "    html = '<a download=\"{filename}\" href=\"data:text/csv;base64,{payload}\" target=\"_blank\">{title}</a>'\n",
    "    html = html.format(payload=payload,title=title,filename=filename)\n",
    "    return HTML(html)\n",
    "\n",
    "create_download_link(final)"
   ]
  },
  {
   "cell_type": "code",
   "execution_count": null,
   "id": "ac123234",
   "metadata": {},
   "outputs": [],
   "source": [
    "substitutes_roster"
   ]
  },
  {
   "cell_type": "code",
   "execution_count": null,
   "id": "8314c8c0",
   "metadata": {},
   "outputs": [],
   "source": [
    "final"
   ]
  },
  {
   "cell_type": "code",
   "execution_count": null,
   "id": "c7b0227c",
   "metadata": {},
   "outputs": [],
   "source": [
    "# Merges Substitute full roster with the days worked one\n",
    "final = pd.merge(final, substitutes_roster, how='outer', left_on='Substitute Full Name', right_on='Full Name')\n",
    "final"
   ]
  },
  {
   "cell_type": "code",
   "execution_count": null,
   "id": "15628c16",
   "metadata": {},
   "outputs": [],
   "source": [
    "# Fills missing Substitute Full Name with the Full Name from roster\n",
    "final['Substitute Full Name'] = final['Substitute Full Name'].fillna(final['Full Name'])\n",
    "final"
   ]
  },
  {
   "cell_type": "code",
   "execution_count": null,
   "id": "ce4d205f",
   "metadata": {},
   "outputs": [],
   "source": [
    "# Selects final columns\n",
    "final = final[['Substitute Full Name', 'Delano', 'Lost Hills', 'Total']]\n",
    "final"
   ]
  },
  {
   "cell_type": "code",
   "execution_count": null,
   "id": "aa28189b",
   "metadata": {},
   "outputs": [],
   "source": [
    "# Fill in missing values with 0\n",
    "final = final.fillna(0)\n",
    "final"
   ]
  },
  {
   "cell_type": "code",
   "execution_count": null,
   "id": "b435d909",
   "metadata": {},
   "outputs": [],
   "source": [
    "# Puts teachers in alphabetical order\n",
    "final = final.sort_values(by='Substitute Full Name')\n",
    "final"
   ]
  },
  {
   "cell_type": "code",
   "execution_count": null,
   "id": "d68cac34",
   "metadata": {},
   "outputs": [],
   "source": [
    "# Active substitutes are selected by having more than 0 days of work\n",
    "active = final[final['Total'] > 0]\n",
    "active"
   ]
  },
  {
   "cell_type": "code",
   "execution_count": null,
   "id": "8a28ab0e",
   "metadata": {},
   "outputs": [],
   "source": [
    "# Inactive selects substitutes with 0 days worked\n",
    "inactive = final[final['Total'] == 0]\n",
    "inactive"
   ]
  },
  {
   "cell_type": "code",
   "execution_count": null,
   "id": "e940ccf7",
   "metadata": {},
   "outputs": [],
   "source": [
    "# Write dataframe to file\n",
    "\n",
    "writer = pd.ExcelWriter(output)\n",
    "\n",
    "active.to_excel(writer, sheet_name = 'Active', index=False)\n",
    "inactive.to_excel(writer, sheet_name='Inactive', index=False)\n",
    "\n",
    "writer.save()"
   ]
  },
  {
   "cell_type": "code",
   "execution_count": null,
   "id": "3b3d1522",
   "metadata": {},
   "outputs": [],
   "source": []
  }
 ],
 "metadata": {
  "kernelspec": {
   "display_name": "Python 3 (ipykernel)",
   "language": "python",
   "name": "python3"
  },
  "language_info": {
   "codemirror_mode": {
    "name": "ipython",
    "version": 3
   },
   "file_extension": ".py",
   "mimetype": "text/x-python",
   "name": "python",
   "nbconvert_exporter": "python",
   "pygments_lexer": "ipython3",
   "version": "3.9.7"
  }
 },
 "nbformat": 4,
 "nbformat_minor": 5
}
